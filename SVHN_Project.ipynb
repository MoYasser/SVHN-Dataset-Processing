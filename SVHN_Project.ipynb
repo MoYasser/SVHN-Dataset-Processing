{
 "cells": [
  {
   "cell_type": "code",
   "execution_count": 7,
   "metadata": {
    "id": "kiG8FhvJxOAp"
   },
   "outputs": [],
   "source": [
    "import cv2\n",
    "import numpy as np\n",
    "from matplotlib import pyplot as plt\n",
    "import math\n",
    "import pandas as pd\n",
    "import json"
   ]
  },
  {
   "cell_type": "code",
   "execution_count": 8,
   "metadata": {
    "id": "WVVo9_7aydQz"
   },
   "outputs": [],
   "source": [
    "# Load the image\n",
    "image = cv2.imread('C:/Users/yshal/Downloads/Vision/train/77.png')\n",
    "\n",
    "# Increase the size of the image\n",
    "height = 64\n",
    "if image.shape[0] < height:\n",
    "    ratio = height / image.shape[0]\n",
    "    width = int(image.shape[1] * ratio)\n",
    "    image = cv2.resize(image, (width, height))"
   ]
  },
  {
   "cell_type": "code",
   "execution_count": 9,
   "metadata": {},
   "outputs": [],
   "source": [
    "# Convert the image to grayscale\n",
    "gray = cv2.cvtColor(image, cv2.COLOR_BGR2GRAY)\n",
    "\n",
    "# Apply median blur to reduce noise\n",
    "blurred = cv2.medianBlur(gray, 3)\n",
    "\n",
    "# Apply adaptive thresholding to enhance the contrast\n",
    "th = cv2.adaptiveThreshold(blurred, 255, cv2.ADAPTIVE_THRESH_MEAN_C, cv2.THRESH_BINARY_INV, 11, 2)"
   ]
  }
 ],
 "metadata": {
  "colab": {
   "authorship_tag": "ABX9TyNiMSc6KKOoVEfvckAbkynZ",
   "provenance": []
  },
  "kernelspec": {
   "display_name": "Python 3 (ipykernel)",
   "language": "python",
   "name": "python3"
  },
  "language_info": {
   "codemirror_mode": {
    "name": "ipython",
    "version": 3
   },
   "file_extension": ".py",
   "mimetype": "text/x-python",
   "name": "python",
   "nbconvert_exporter": "python",
   "pygments_lexer": "ipython3",
   "version": "3.10.4"
  }
 },
 "nbformat": 4,
 "nbformat_minor": 1
}
