{
 "cells": [
  {
   "cell_type": "code",
   "execution_count": 1,
   "metadata": {
    "id": "kiG8FhvJxOAp"
   },
   "outputs": [],
   "source": [
    "import cv2\n",
    "import numpy as np\n",
    "from matplotlib import pyplot as plt\n",
    "import math\n",
    "import pandas as pd\n",
    "import json"
   ]
  },
  {
   "cell_type": "code",
   "execution_count": null,
   "metadata": {
    "id": "WVVo9_7aydQz"
   },
   "outputs": [],
   "source": [
    "# Load the image\n",
    "image = cv2.imread('train/77.png')\n",
    "\n",
    "# Increase the size of the image\n",
    "height = 64\n",
    "if image.shape[0] < height:\n",
    "    ratio = height / image.shape[0]\n",
    "    width = int(image.shape[1] * ratio)\n",
    "    image = cv2.resize(image, (width, height))"
   ]
  }
 ],
 "metadata": {
  "colab": {
   "authorship_tag": "ABX9TyNiMSc6KKOoVEfvckAbkynZ",
   "provenance": []
  },
  "kernelspec": {
   "display_name": "Python 3 (ipykernel)",
   "language": "python",
   "name": "python3"
  },
  "language_info": {
   "codemirror_mode": {
    "name": "ipython",
    "version": 3
   },
   "file_extension": ".py",
   "mimetype": "text/x-python",
   "name": "python",
   "nbconvert_exporter": "python",
   "pygments_lexer": "ipython3",
   "version": "3.10.4"
  }
 },
 "nbformat": 4,
 "nbformat_minor": 1
}
